{
 "cells": [
  {
   "cell_type": "code",
   "execution_count": 5,
   "metadata": {},
   "outputs": [],
   "source": [
    "import cv2\n",
    "from scipy.ndimage.filters import convolve \n",
    "import numpy as np"
   ]
  },
  {
   "cell_type": "code",
   "execution_count": 6,
   "metadata": {},
   "outputs": [
    {
     "ename": "AttributeError",
     "evalue": "module 'cv2.cv2' has no attribute 'bgsegm'",
     "output_type": "error",
     "traceback": [
      "\u001b[1;31m---------------------------------------------------------------------------\u001b[0m",
      "\u001b[1;31mAttributeError\u001b[0m                            Traceback (most recent call last)",
      "\u001b[1;32m<ipython-input-6-5daa0f538b62>\u001b[0m in \u001b[0;36m<module>\u001b[1;34m\u001b[0m\n\u001b[0;32m     17\u001b[0m \u001b[0mbframes\u001b[0m\u001b[1;33m=\u001b[0m\u001b[1;33m[\u001b[0m\u001b[1;33m]\u001b[0m\u001b[1;33m\u001b[0m\u001b[1;33m\u001b[0m\u001b[0m\n\u001b[0;32m     18\u001b[0m \u001b[1;32mfor\u001b[0m \u001b[0mframe\u001b[0m \u001b[1;32min\u001b[0m \u001b[0mframes\u001b[0m\u001b[1;33m:\u001b[0m\u001b[1;33m\u001b[0m\u001b[1;33m\u001b[0m\u001b[0m\n\u001b[1;32m---> 19\u001b[1;33m     \u001b[0mbframe\u001b[0m\u001b[1;33m=\u001b[0m\u001b[0mbackground_subtraction\u001b[0m\u001b[1;33m(\u001b[0m\u001b[0mframe\u001b[0m\u001b[1;33m)\u001b[0m\u001b[1;33m\u001b[0m\u001b[1;33m\u001b[0m\u001b[0m\n\u001b[0m\u001b[0;32m     20\u001b[0m \u001b[1;33m\u001b[0m\u001b[0m\n",
      "\u001b[1;32m<ipython-input-6-5daa0f538b62>\u001b[0m in \u001b[0;36mbackground_subtraction\u001b[1;34m(frame)\u001b[0m\n\u001b[0;32m      1\u001b[0m \u001b[1;32mdef\u001b[0m \u001b[0mbackground_subtraction\u001b[0m\u001b[1;33m(\u001b[0m\u001b[0mframe\u001b[0m\u001b[1;33m)\u001b[0m\u001b[1;33m:\u001b[0m\u001b[1;33m\u001b[0m\u001b[1;33m\u001b[0m\u001b[0m\n\u001b[1;32m----> 2\u001b[1;33m     \u001b[0mfgbg1\u001b[0m \u001b[1;33m=\u001b[0m \u001b[0mcv2\u001b[0m\u001b[1;33m.\u001b[0m\u001b[0mbgsegm\u001b[0m\u001b[1;33m.\u001b[0m\u001b[0mcreateBackgroundSubtractorMOG\u001b[0m\u001b[1;33m(\u001b[0m\u001b[1;33m)\u001b[0m\u001b[1;33m;\u001b[0m\u001b[1;33m\u001b[0m\u001b[1;33m\u001b[0m\u001b[0m\n\u001b[0m\u001b[0;32m      3\u001b[0m     \u001b[0mbframe\u001b[0m\u001b[1;33m=\u001b[0m\u001b[0mfgbg1\u001b[0m\u001b[1;33m.\u001b[0m\u001b[0mapply\u001b[0m\u001b[1;33m(\u001b[0m\u001b[0mframe\u001b[0m\u001b[1;33m)\u001b[0m\u001b[1;33m\u001b[0m\u001b[1;33m\u001b[0m\u001b[0m\n\u001b[0;32m      4\u001b[0m     \u001b[1;32mreturn\u001b[0m \u001b[0mbframe\u001b[0m\u001b[1;33m\u001b[0m\u001b[1;33m\u001b[0m\u001b[0m\n\u001b[0;32m      5\u001b[0m \u001b[1;33m\u001b[0m\u001b[0m\n",
      "\u001b[1;31mAttributeError\u001b[0m: module 'cv2.cv2' has no attribute 'bgsegm'"
     ]
    }
   ],
   "source": [
    "def background_subtraction(frame):\n",
    "    fgbg1 = cv2.bgsegm.createBackgroundSubtractorMOG();\n",
    "    bframe=fgbg1.apply(frame)\n",
    "    return bframe\n",
    "    \n",
    "frames=[]\n",
    "cap=cv2.VideoCapture('running.avi')\n",
    "while True:\n",
    "    ret,frame=cap.read()\n",
    "    \n",
    "    #grayFrame = cv2.cvtColor(frame, cv2.COLOR_BGR2GRAY) \n",
    "    frames.append(frame)\n",
    "    if not ret:\n",
    "        break\n",
    "    cv2.destroyAllWindows() \n",
    "    cap.release()\n",
    "bframes=[]\n",
    "for frame in frames:\n",
    "    bframe=background_subtraction(frame)\n",
    "    \n"
   ]
  },
  {
   "cell_type": "code",
   "execution_count": null,
   "metadata": {},
   "outputs": [],
   "source": [
    "def gaussian_blurOperator(sigma): \n",
    "  size = 2*np.ceil(3*sigma)+1 \n",
    "  x, y = np.mgrid[-size//2 + 1:size//2 + 1, -size//2 + 1:size//2 + 1] \n",
    "  g = np.exp(-((x**2 + y**2)/(2.0*sigma**2))) / (2*np.pi*sigma**2)\n",
    "  return g/g.sum()\n",
    "\n",
    "def generate_octave(init_level, s, sigma): \n",
    "  octave = [init_level] \n",
    "  k = 2**(1/s) \n",
    "  kernel = gaussian_blurOperator(k * sigma) \n",
    "  for _ in range(s+2): \n",
    "    next_level = convolve(octave[-1], kernel) \n",
    "    octave.append(next_level) \n",
    "  return octave\n",
    "def generate_gaussian_pyramid(im, num_octave, s, sigma): \n",
    "  pyr = [] \n",
    "  for _ in range(num_octave): \n",
    "    octave = generate_octave(im, s, sigma) \n",
    "    pyr.append(octave) \n",
    "    im = octave[-3][::2, ::2] \n",
    "  return pyr"
   ]
  },
  {
   "cell_type": "code",
   "execution_count": 33,
   "metadata": {},
   "outputs": [],
   "source": [
    "pyramidframes=[]\n",
    "for image in bframes:\n",
    "    pyramidframes=generate_gaussian_pyramid(image,4, s=3, sigma=1.6)\n",
    "    "
   ]
  },
  {
   "cell_type": "code",
   "execution_count": null,
   "metadata": {},
   "outputs": [],
   "source": [
    "def generate_DoG_octave(gaussian_octave):\n",
    "    octave = []\n",
    "\n",
    "    for i in range(1, len(gaussian_octave)):\n",
    "        octave.append(gaussian_octave[i] - gaussian_octave[i-1])\n",
    "\n",
    "    return np.concatenate([o[:,:,np.newaxis] for o in octave], axis=2)\n",
    "\n",
    "def generate_DoG_pyramid(gaussian_pyramid):\n",
    "    pyr = []\n",
    "\n",
    "    for gaussian_octave in gaussian_pyramid:\n",
    "        pyr.append(generate_DoG_octave(gaussian_octave))\n",
    "\n",
    "    return pyr"
   ]
  },
  {
   "cell_type": "code",
   "execution_count": null,
   "metadata": {},
   "outputs": [],
   "source": [
    "def get_candidate_keypoints(D, w=16): \n",
    "  candidates = [] \n",
    "  D[:,:,0] = 0 \n",
    "  D[:,:,-1] = 0 \n",
    "  for i in range(w//2+1, D.shape[0]-w//2–1): \n",
    "    for j in range(w//2+1, D.shape[1]-w//2–1): \n",
    "      for k in range(1, D.shape[2]-1): \n",
    "        patch = D[i-1:i+2, j-1:j+2, k-1:k+2] \n",
    "        if np.argmax(patch) == 13 or np.argmin(patch) == 13: \n",
    "          candidates.append([i, j, k]) \n",
    "  return candidates"
   ]
  },
  {
   "cell_type": "code",
   "execution_count": null,
   "metadata": {},
   "outputs": [],
   "source": []
  }
 ],
 "metadata": {
  "kernelspec": {
   "display_name": "Python 3",
   "language": "python",
   "name": "python3"
  },
  "language_info": {
   "codemirror_mode": {
    "name": "ipython",
    "version": 3
   },
   "file_extension": ".py",
   "mimetype": "text/x-python",
   "name": "python",
   "nbconvert_exporter": "python",
   "pygments_lexer": "ipython3",
   "version": "3.7.6"
  }
 },
 "nbformat": 4,
 "nbformat_minor": 4
}
