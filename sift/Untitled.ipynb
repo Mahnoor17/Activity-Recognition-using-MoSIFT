{
 "cells": [
  {
   "cell_type": "code",
   "execution_count": 15,
   "metadata": {},
   "outputs": [],
   "source": [
    "import cv2\n",
    "from scipy.ndimage.filters import convolve \n",
    "import numpy as np"
   ]
  },
  {
   "cell_type": "code",
   "execution_count": 30,
   "metadata": {},
   "outputs": [],
   "source": [
    "def background_subtraction(frame):\n",
    "    fgbg1 = cv2.bgsegm.createBackgroundSubtractorMOG();\n",
    "    bframe=fgbg1.apply(frame)\n",
    "    return bframe\n",
    "    \n",
    "frames=[]\n",
    "cap=cv2.VideoCapture('running.avi')\n",
    "while True:\n",
    "    ret,frame=cap.read()\n",
    "    \n",
    "    #grayFrame = cv2.cvtColor(frame, cv2.COLOR_BGR2GRAY) \n",
    "    frames.append(frame)\n",
    "    if not ret:\n",
    "        break\n",
    "    cv2.destroyAllWindows() \n",
    "    cap.release()\n",
    "bframes=[]\n",
    "for frame in frames:\n",
    "    bframe=background_subtraction(frame)\n",
    "    \n"
   ]
  },
  {
   "cell_type": "code",
   "execution_count": 32,
   "metadata": {},
   "outputs": [],
   "source": [
    "def gaussian_blurOperator(sigma): \n",
    "  size = 2*np.ceil(3*sigma)+1 \n",
    "  x, y = np.mgrid[-size//2 + 1:size//2 + 1, -size//2 + 1:size//2 + 1] \n",
    "  g = np.exp(-((x**2 + y**2)/(2.0*sigma**2))) / (2*np.pi*sigma**2)\n",
    "  return g/g.sum()\n",
    "\n",
    "def generate_octave(init_level, s, sigma): \n",
    "  octave = [init_level] \n",
    "  k = 2**(1/s) \n",
    "  kernel = gaussian_blurOperator(k * sigma) \n",
    "  for _ in range(s+2): \n",
    "    next_level = convolve(octave[-1], kernel) \n",
    "    octave.append(next_level) \n",
    "  return octave\n",
    "def generate_gaussian_pyramid(im, num_octave, s, sigma): \n",
    "  pyr = [] \n",
    "  for _ in range(num_octave): \n",
    "    octave = generate_octave(im, s, sigma) \n",
    "    pyr.append(octave) \n",
    "    im = octave[-3][::2, ::2] \n",
    "  return pyr"
   ]
  },
  {
   "cell_type": "code",
   "execution_count": 33,
   "metadata": {},
   "outputs": [],
   "source": [
    "pyramidframes=[]\n",
    "for image in bframes:\n",
    "    pyramidframes=generate_gaussian_pyramid(image,4, s=3, sigma=1.6)\n",
    "    "
   ]
  },
  {
   "cell_type": "code",
   "execution_count": null,
   "metadata": {},
   "outputs": [],
   "source": []
  }
 ],
 "metadata": {
  "kernelspec": {
   "display_name": "Python 3",
   "language": "python",
   "name": "python3"
  },
  "language_info": {
   "codemirror_mode": {
    "name": "ipython",
    "version": 3
   },
   "file_extension": ".py",
   "mimetype": "text/x-python",
   "name": "python",
   "nbconvert_exporter": "python",
   "pygments_lexer": "ipython3",
   "version": "3.6.8"
  }
 },
 "nbformat": 4,
 "nbformat_minor": 4
}
